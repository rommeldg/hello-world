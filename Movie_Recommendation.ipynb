{
  "nbformat": 4,
  "nbformat_minor": 0,
  "metadata": {
    "colab": {
      "name": "Movie Recommendation.ipynb",
      "provenance": [],
      "authorship_tag": "ABX9TyPwdGZxpHQ/7Z2+2rfpy1Lp",
      "include_colab_link": true
    },
    "kernelspec": {
      "name": "python3",
      "display_name": "Python 3"
    },
    "language_info": {
      "name": "python"
    }
  },
  "cells": [
    {
      "cell_type": "markdown",
      "metadata": {
        "id": "view-in-github",
        "colab_type": "text"
      },
      "source": [
        "<a href=\"https://colab.research.google.com/github/rommeldg/hello-world/blob/master/Movie_Recommendation.ipynb\" target=\"_parent\"><img src=\"https://colab.research.google.com/assets/colab-badge.svg\" alt=\"Open In Colab\"/></a>"
      ]
    },
    {
      "cell_type": "code",
      "execution_count": 1,
      "metadata": {
        "id": "9RgXNZGCjDGC"
      },
      "outputs": [],
      "source": [
        "import numpy as np\n",
        "import pandas as pd\n",
        "from nltk.stem.porter import PorterStemmer\n",
        "from sklearn.feature_extraction.text import CountVectorizer\n",
        "from sklearn.metrics.pairwise import cosine_similarity\n"
      ]
    },
    {
      "cell_type": "code",
      "source": [
        "from google.colab import drive\n",
        "drive.mount('/content/drive')"
      ],
      "metadata": {
        "colab": {
          "base_uri": "https://localhost:8080/"
        },
        "id": "s-lfwf19jGGe",
        "outputId": "8759af91-40f1-4b66-fe49-6aa5f8e06723"
      },
      "execution_count": 2,
      "outputs": [
        {
          "output_type": "stream",
          "name": "stdout",
          "text": [
            "Mounted at /content/drive\n"
          ]
        }
      ]
    },
    {
      "cell_type": "code",
      "source": [
        "df = pd.read_csv('drive/MyDrive/netflix_titles.csv')\n",
        "df.head()"
      ],
      "metadata": {
        "colab": {
          "base_uri": "https://localhost:8080/",
          "height": 597
        },
        "id": "ltkg6SRjjXIg",
        "outputId": "3d5cd988-bc9e-46d4-ddb6-b705ba0cea38"
      },
      "execution_count": 3,
      "outputs": [
        {
          "output_type": "execute_result",
          "data": {
            "text/plain": [
              "  show_id     type                  title         director  \\\n",
              "0      s1    Movie   Dick Johnson Is Dead  Kirsten Johnson   \n",
              "1      s2  TV Show          Blood & Water              NaN   \n",
              "2      s3  TV Show              Ganglands  Julien Leclercq   \n",
              "3      s4  TV Show  Jailbirds New Orleans              NaN   \n",
              "4      s5  TV Show           Kota Factory              NaN   \n",
              "\n",
              "                                                cast        country  \\\n",
              "0                                                NaN  United States   \n",
              "1  Ama Qamata, Khosi Ngema, Gail Mabalane, Thaban...   South Africa   \n",
              "2  Sami Bouajila, Tracy Gotoas, Samuel Jouy, Nabi...            NaN   \n",
              "3                                                NaN            NaN   \n",
              "4  Mayur More, Jitendra Kumar, Ranjan Raj, Alam K...          India   \n",
              "\n",
              "           date_added  release_year rating   duration  \\\n",
              "0  September 25, 2021          2020  PG-13     90 min   \n",
              "1  September 24, 2021          2021  TV-MA  2 Seasons   \n",
              "2  September 24, 2021          2021  TV-MA   1 Season   \n",
              "3  September 24, 2021          2021  TV-MA   1 Season   \n",
              "4  September 24, 2021          2021  TV-MA  2 Seasons   \n",
              "\n",
              "                                           listed_in  \\\n",
              "0                                      Documentaries   \n",
              "1    International TV Shows, TV Dramas, TV Mysteries   \n",
              "2  Crime TV Shows, International TV Shows, TV Act...   \n",
              "3                             Docuseries, Reality TV   \n",
              "4  International TV Shows, Romantic TV Shows, TV ...   \n",
              "\n",
              "                                         description  \n",
              "0  As her father nears the end of his life, filmm...  \n",
              "1  After crossing paths at a party, a Cape Town t...  \n",
              "2  To protect his family from a powerful drug lor...  \n",
              "3  Feuds, flirtations and toilet talk go down amo...  \n",
              "4  In a city of coaching centers known to train I...  "
            ],
            "text/html": [
              "\n",
              "  <div id=\"df-29d389be-d541-4a52-ba14-7a901fb6d137\">\n",
              "    <div class=\"colab-df-container\">\n",
              "      <div>\n",
              "<style scoped>\n",
              "    .dataframe tbody tr th:only-of-type {\n",
              "        vertical-align: middle;\n",
              "    }\n",
              "\n",
              "    .dataframe tbody tr th {\n",
              "        vertical-align: top;\n",
              "    }\n",
              "\n",
              "    .dataframe thead th {\n",
              "        text-align: right;\n",
              "    }\n",
              "</style>\n",
              "<table border=\"1\" class=\"dataframe\">\n",
              "  <thead>\n",
              "    <tr style=\"text-align: right;\">\n",
              "      <th></th>\n",
              "      <th>show_id</th>\n",
              "      <th>type</th>\n",
              "      <th>title</th>\n",
              "      <th>director</th>\n",
              "      <th>cast</th>\n",
              "      <th>country</th>\n",
              "      <th>date_added</th>\n",
              "      <th>release_year</th>\n",
              "      <th>rating</th>\n",
              "      <th>duration</th>\n",
              "      <th>listed_in</th>\n",
              "      <th>description</th>\n",
              "    </tr>\n",
              "  </thead>\n",
              "  <tbody>\n",
              "    <tr>\n",
              "      <th>0</th>\n",
              "      <td>s1</td>\n",
              "      <td>Movie</td>\n",
              "      <td>Dick Johnson Is Dead</td>\n",
              "      <td>Kirsten Johnson</td>\n",
              "      <td>NaN</td>\n",
              "      <td>United States</td>\n",
              "      <td>September 25, 2021</td>\n",
              "      <td>2020</td>\n",
              "      <td>PG-13</td>\n",
              "      <td>90 min</td>\n",
              "      <td>Documentaries</td>\n",
              "      <td>As her father nears the end of his life, filmm...</td>\n",
              "    </tr>\n",
              "    <tr>\n",
              "      <th>1</th>\n",
              "      <td>s2</td>\n",
              "      <td>TV Show</td>\n",
              "      <td>Blood &amp; Water</td>\n",
              "      <td>NaN</td>\n",
              "      <td>Ama Qamata, Khosi Ngema, Gail Mabalane, Thaban...</td>\n",
              "      <td>South Africa</td>\n",
              "      <td>September 24, 2021</td>\n",
              "      <td>2021</td>\n",
              "      <td>TV-MA</td>\n",
              "      <td>2 Seasons</td>\n",
              "      <td>International TV Shows, TV Dramas, TV Mysteries</td>\n",
              "      <td>After crossing paths at a party, a Cape Town t...</td>\n",
              "    </tr>\n",
              "    <tr>\n",
              "      <th>2</th>\n",
              "      <td>s3</td>\n",
              "      <td>TV Show</td>\n",
              "      <td>Ganglands</td>\n",
              "      <td>Julien Leclercq</td>\n",
              "      <td>Sami Bouajila, Tracy Gotoas, Samuel Jouy, Nabi...</td>\n",
              "      <td>NaN</td>\n",
              "      <td>September 24, 2021</td>\n",
              "      <td>2021</td>\n",
              "      <td>TV-MA</td>\n",
              "      <td>1 Season</td>\n",
              "      <td>Crime TV Shows, International TV Shows, TV Act...</td>\n",
              "      <td>To protect his family from a powerful drug lor...</td>\n",
              "    </tr>\n",
              "    <tr>\n",
              "      <th>3</th>\n",
              "      <td>s4</td>\n",
              "      <td>TV Show</td>\n",
              "      <td>Jailbirds New Orleans</td>\n",
              "      <td>NaN</td>\n",
              "      <td>NaN</td>\n",
              "      <td>NaN</td>\n",
              "      <td>September 24, 2021</td>\n",
              "      <td>2021</td>\n",
              "      <td>TV-MA</td>\n",
              "      <td>1 Season</td>\n",
              "      <td>Docuseries, Reality TV</td>\n",
              "      <td>Feuds, flirtations and toilet talk go down amo...</td>\n",
              "    </tr>\n",
              "    <tr>\n",
              "      <th>4</th>\n",
              "      <td>s5</td>\n",
              "      <td>TV Show</td>\n",
              "      <td>Kota Factory</td>\n",
              "      <td>NaN</td>\n",
              "      <td>Mayur More, Jitendra Kumar, Ranjan Raj, Alam K...</td>\n",
              "      <td>India</td>\n",
              "      <td>September 24, 2021</td>\n",
              "      <td>2021</td>\n",
              "      <td>TV-MA</td>\n",
              "      <td>2 Seasons</td>\n",
              "      <td>International TV Shows, Romantic TV Shows, TV ...</td>\n",
              "      <td>In a city of coaching centers known to train I...</td>\n",
              "    </tr>\n",
              "  </tbody>\n",
              "</table>\n",
              "</div>\n",
              "      <button class=\"colab-df-convert\" onclick=\"convertToInteractive('df-29d389be-d541-4a52-ba14-7a901fb6d137')\"\n",
              "              title=\"Convert this dataframe to an interactive table.\"\n",
              "              style=\"display:none;\">\n",
              "        \n",
              "  <svg xmlns=\"http://www.w3.org/2000/svg\" height=\"24px\"viewBox=\"0 0 24 24\"\n",
              "       width=\"24px\">\n",
              "    <path d=\"M0 0h24v24H0V0z\" fill=\"none\"/>\n",
              "    <path d=\"M18.56 5.44l.94 2.06.94-2.06 2.06-.94-2.06-.94-.94-2.06-.94 2.06-2.06.94zm-11 1L8.5 8.5l.94-2.06 2.06-.94-2.06-.94L8.5 2.5l-.94 2.06-2.06.94zm10 10l.94 2.06.94-2.06 2.06-.94-2.06-.94-.94-2.06-.94 2.06-2.06.94z\"/><path d=\"M17.41 7.96l-1.37-1.37c-.4-.4-.92-.59-1.43-.59-.52 0-1.04.2-1.43.59L10.3 9.45l-7.72 7.72c-.78.78-.78 2.05 0 2.83L4 21.41c.39.39.9.59 1.41.59.51 0 1.02-.2 1.41-.59l7.78-7.78 2.81-2.81c.8-.78.8-2.07 0-2.86zM5.41 20L4 18.59l7.72-7.72 1.47 1.35L5.41 20z\"/>\n",
              "  </svg>\n",
              "      </button>\n",
              "      \n",
              "  <style>\n",
              "    .colab-df-container {\n",
              "      display:flex;\n",
              "      flex-wrap:wrap;\n",
              "      gap: 12px;\n",
              "    }\n",
              "\n",
              "    .colab-df-convert {\n",
              "      background-color: #E8F0FE;\n",
              "      border: none;\n",
              "      border-radius: 50%;\n",
              "      cursor: pointer;\n",
              "      display: none;\n",
              "      fill: #1967D2;\n",
              "      height: 32px;\n",
              "      padding: 0 0 0 0;\n",
              "      width: 32px;\n",
              "    }\n",
              "\n",
              "    .colab-df-convert:hover {\n",
              "      background-color: #E2EBFA;\n",
              "      box-shadow: 0px 1px 2px rgba(60, 64, 67, 0.3), 0px 1px 3px 1px rgba(60, 64, 67, 0.15);\n",
              "      fill: #174EA6;\n",
              "    }\n",
              "\n",
              "    [theme=dark] .colab-df-convert {\n",
              "      background-color: #3B4455;\n",
              "      fill: #D2E3FC;\n",
              "    }\n",
              "\n",
              "    [theme=dark] .colab-df-convert:hover {\n",
              "      background-color: #434B5C;\n",
              "      box-shadow: 0px 1px 3px 1px rgba(0, 0, 0, 0.15);\n",
              "      filter: drop-shadow(0px 1px 2px rgba(0, 0, 0, 0.3));\n",
              "      fill: #FFFFFF;\n",
              "    }\n",
              "  </style>\n",
              "\n",
              "      <script>\n",
              "        const buttonEl =\n",
              "          document.querySelector('#df-29d389be-d541-4a52-ba14-7a901fb6d137 button.colab-df-convert');\n",
              "        buttonEl.style.display =\n",
              "          google.colab.kernel.accessAllowed ? 'block' : 'none';\n",
              "\n",
              "        async function convertToInteractive(key) {\n",
              "          const element = document.querySelector('#df-29d389be-d541-4a52-ba14-7a901fb6d137');\n",
              "          const dataTable =\n",
              "            await google.colab.kernel.invokeFunction('convertToInteractive',\n",
              "                                                     [key], {});\n",
              "          if (!dataTable) return;\n",
              "\n",
              "          const docLinkHtml = 'Like what you see? Visit the ' +\n",
              "            '<a target=\"_blank\" href=https://colab.research.google.com/notebooks/data_table.ipynb>data table notebook</a>'\n",
              "            + ' to learn more about interactive tables.';\n",
              "          element.innerHTML = '';\n",
              "          dataTable['output_type'] = 'display_data';\n",
              "          await google.colab.output.renderOutput(dataTable, element);\n",
              "          const docLink = document.createElement('div');\n",
              "          docLink.innerHTML = docLinkHtml;\n",
              "          element.appendChild(docLink);\n",
              "        }\n",
              "      </script>\n",
              "    </div>\n",
              "  </div>\n",
              "  "
            ]
          },
          "metadata": {},
          "execution_count": 3
        }
      ]
    },
    {
      "cell_type": "code",
      "source": [
        "df.shape"
      ],
      "metadata": {
        "colab": {
          "base_uri": "https://localhost:8080/"
        },
        "id": "-_fpSJ3Cjx9f",
        "outputId": "657c785b-ab8e-4312-cfc9-016cbe273071"
      },
      "execution_count": 4,
      "outputs": [
        {
          "output_type": "execute_result",
          "data": {
            "text/plain": [
              "(8807, 12)"
            ]
          },
          "metadata": {},
          "execution_count": 4
        }
      ]
    },
    {
      "cell_type": "code",
      "source": [
        "df['type'].value_counts()"
      ],
      "metadata": {
        "colab": {
          "base_uri": "https://localhost:8080/"
        },
        "id": "ooQsL0ocjyAT",
        "outputId": "db76d0ee-4aac-4a74-ed4c-b10d51e68f06"
      },
      "execution_count": 5,
      "outputs": [
        {
          "output_type": "execute_result",
          "data": {
            "text/plain": [
              "Movie      6131\n",
              "TV Show    2676\n",
              "Name: type, dtype: int64"
            ]
          },
          "metadata": {},
          "execution_count": 5
        }
      ]
    },
    {
      "cell_type": "code",
      "source": [
        "# percentage of null values per column\n",
        "df.isnull().sum()/df.shape[0]*100"
      ],
      "metadata": {
        "colab": {
          "base_uri": "https://localhost:8080/"
        },
        "id": "uoS0Ous8jyC-",
        "outputId": "ba300547-3ac2-47e3-b0d4-f93233c69769"
      },
      "execution_count": 6,
      "outputs": [
        {
          "output_type": "execute_result",
          "data": {
            "text/plain": [
              "show_id          0.000000\n",
              "type             0.000000\n",
              "title            0.000000\n",
              "director        29.908028\n",
              "cast             9.367549\n",
              "country          9.435676\n",
              "date_added       0.113546\n",
              "release_year     0.000000\n",
              "rating           0.045418\n",
              "duration         0.034064\n",
              "listed_in        0.000000\n",
              "description      0.000000\n",
              "dtype: float64"
            ]
          },
          "metadata": {},
          "execution_count": 6
        }
      ]
    },
    {
      "cell_type": "code",
      "source": [
        "# Replace null values in director, cast and country\n",
        "df['director'].replace(np.nan, 'None',inplace  = True)\n",
        "df['cast'].replace(np.nan, 'None',inplace  = True)\n",
        "df['country'].replace(np.nan, 'None',inplace  = True)"
      ],
      "metadata": {
        "id": "_0CswDLbjyGB"
      },
      "execution_count": 7,
      "outputs": []
    },
    {
      "cell_type": "code",
      "source": [
        "# concatenate important columns into one string\n",
        "df['Tags'] = df['type'] + ' ' + df['title'] + ' ' + df['director'] + ' ' + df['cast'] + ' ' + df['country'] + ' ' + df['listed_in'] + ' ' + df['description']\n",
        "df.head(3)"
      ],
      "metadata": {
        "colab": {
          "base_uri": "https://localhost:8080/",
          "height": 520
        },
        "id": "HsNamHVkj3Bv",
        "outputId": "7022ea36-9602-454d-ff08-a341e5871652"
      },
      "execution_count": 8,
      "outputs": [
        {
          "output_type": "execute_result",
          "data": {
            "text/plain": [
              "  show_id     type                 title         director  \\\n",
              "0      s1    Movie  Dick Johnson Is Dead  Kirsten Johnson   \n",
              "1      s2  TV Show         Blood & Water             None   \n",
              "2      s3  TV Show             Ganglands  Julien Leclercq   \n",
              "\n",
              "                                                cast        country  \\\n",
              "0                                               None  United States   \n",
              "1  Ama Qamata, Khosi Ngema, Gail Mabalane, Thaban...   South Africa   \n",
              "2  Sami Bouajila, Tracy Gotoas, Samuel Jouy, Nabi...           None   \n",
              "\n",
              "           date_added  release_year rating   duration  \\\n",
              "0  September 25, 2021          2020  PG-13     90 min   \n",
              "1  September 24, 2021          2021  TV-MA  2 Seasons   \n",
              "2  September 24, 2021          2021  TV-MA   1 Season   \n",
              "\n",
              "                                           listed_in  \\\n",
              "0                                      Documentaries   \n",
              "1    International TV Shows, TV Dramas, TV Mysteries   \n",
              "2  Crime TV Shows, International TV Shows, TV Act...   \n",
              "\n",
              "                                         description  \\\n",
              "0  As her father nears the end of his life, filmm...   \n",
              "1  After crossing paths at a party, a Cape Town t...   \n",
              "2  To protect his family from a powerful drug lor...   \n",
              "\n",
              "                                                Tags  \n",
              "0  Movie Dick Johnson Is Dead Kirsten Johnson Non...  \n",
              "1  TV Show Blood & Water None Ama Qamata, Khosi N...  \n",
              "2  TV Show Ganglands Julien Leclercq Sami Bouajil...  "
            ],
            "text/html": [
              "\n",
              "  <div id=\"df-30c060a1-7306-4ba1-86e8-cc265ddae61c\">\n",
              "    <div class=\"colab-df-container\">\n",
              "      <div>\n",
              "<style scoped>\n",
              "    .dataframe tbody tr th:only-of-type {\n",
              "        vertical-align: middle;\n",
              "    }\n",
              "\n",
              "    .dataframe tbody tr th {\n",
              "        vertical-align: top;\n",
              "    }\n",
              "\n",
              "    .dataframe thead th {\n",
              "        text-align: right;\n",
              "    }\n",
              "</style>\n",
              "<table border=\"1\" class=\"dataframe\">\n",
              "  <thead>\n",
              "    <tr style=\"text-align: right;\">\n",
              "      <th></th>\n",
              "      <th>show_id</th>\n",
              "      <th>type</th>\n",
              "      <th>title</th>\n",
              "      <th>director</th>\n",
              "      <th>cast</th>\n",
              "      <th>country</th>\n",
              "      <th>date_added</th>\n",
              "      <th>release_year</th>\n",
              "      <th>rating</th>\n",
              "      <th>duration</th>\n",
              "      <th>listed_in</th>\n",
              "      <th>description</th>\n",
              "      <th>Tags</th>\n",
              "    </tr>\n",
              "  </thead>\n",
              "  <tbody>\n",
              "    <tr>\n",
              "      <th>0</th>\n",
              "      <td>s1</td>\n",
              "      <td>Movie</td>\n",
              "      <td>Dick Johnson Is Dead</td>\n",
              "      <td>Kirsten Johnson</td>\n",
              "      <td>None</td>\n",
              "      <td>United States</td>\n",
              "      <td>September 25, 2021</td>\n",
              "      <td>2020</td>\n",
              "      <td>PG-13</td>\n",
              "      <td>90 min</td>\n",
              "      <td>Documentaries</td>\n",
              "      <td>As her father nears the end of his life, filmm...</td>\n",
              "      <td>Movie Dick Johnson Is Dead Kirsten Johnson Non...</td>\n",
              "    </tr>\n",
              "    <tr>\n",
              "      <th>1</th>\n",
              "      <td>s2</td>\n",
              "      <td>TV Show</td>\n",
              "      <td>Blood &amp; Water</td>\n",
              "      <td>None</td>\n",
              "      <td>Ama Qamata, Khosi Ngema, Gail Mabalane, Thaban...</td>\n",
              "      <td>South Africa</td>\n",
              "      <td>September 24, 2021</td>\n",
              "      <td>2021</td>\n",
              "      <td>TV-MA</td>\n",
              "      <td>2 Seasons</td>\n",
              "      <td>International TV Shows, TV Dramas, TV Mysteries</td>\n",
              "      <td>After crossing paths at a party, a Cape Town t...</td>\n",
              "      <td>TV Show Blood &amp; Water None Ama Qamata, Khosi N...</td>\n",
              "    </tr>\n",
              "    <tr>\n",
              "      <th>2</th>\n",
              "      <td>s3</td>\n",
              "      <td>TV Show</td>\n",
              "      <td>Ganglands</td>\n",
              "      <td>Julien Leclercq</td>\n",
              "      <td>Sami Bouajila, Tracy Gotoas, Samuel Jouy, Nabi...</td>\n",
              "      <td>None</td>\n",
              "      <td>September 24, 2021</td>\n",
              "      <td>2021</td>\n",
              "      <td>TV-MA</td>\n",
              "      <td>1 Season</td>\n",
              "      <td>Crime TV Shows, International TV Shows, TV Act...</td>\n",
              "      <td>To protect his family from a powerful drug lor...</td>\n",
              "      <td>TV Show Ganglands Julien Leclercq Sami Bouajil...</td>\n",
              "    </tr>\n",
              "  </tbody>\n",
              "</table>\n",
              "</div>\n",
              "      <button class=\"colab-df-convert\" onclick=\"convertToInteractive('df-30c060a1-7306-4ba1-86e8-cc265ddae61c')\"\n",
              "              title=\"Convert this dataframe to an interactive table.\"\n",
              "              style=\"display:none;\">\n",
              "        \n",
              "  <svg xmlns=\"http://www.w3.org/2000/svg\" height=\"24px\"viewBox=\"0 0 24 24\"\n",
              "       width=\"24px\">\n",
              "    <path d=\"M0 0h24v24H0V0z\" fill=\"none\"/>\n",
              "    <path d=\"M18.56 5.44l.94 2.06.94-2.06 2.06-.94-2.06-.94-.94-2.06-.94 2.06-2.06.94zm-11 1L8.5 8.5l.94-2.06 2.06-.94-2.06-.94L8.5 2.5l-.94 2.06-2.06.94zm10 10l.94 2.06.94-2.06 2.06-.94-2.06-.94-.94-2.06-.94 2.06-2.06.94z\"/><path d=\"M17.41 7.96l-1.37-1.37c-.4-.4-.92-.59-1.43-.59-.52 0-1.04.2-1.43.59L10.3 9.45l-7.72 7.72c-.78.78-.78 2.05 0 2.83L4 21.41c.39.39.9.59 1.41.59.51 0 1.02-.2 1.41-.59l7.78-7.78 2.81-2.81c.8-.78.8-2.07 0-2.86zM5.41 20L4 18.59l7.72-7.72 1.47 1.35L5.41 20z\"/>\n",
              "  </svg>\n",
              "      </button>\n",
              "      \n",
              "  <style>\n",
              "    .colab-df-container {\n",
              "      display:flex;\n",
              "      flex-wrap:wrap;\n",
              "      gap: 12px;\n",
              "    }\n",
              "\n",
              "    .colab-df-convert {\n",
              "      background-color: #E8F0FE;\n",
              "      border: none;\n",
              "      border-radius: 50%;\n",
              "      cursor: pointer;\n",
              "      display: none;\n",
              "      fill: #1967D2;\n",
              "      height: 32px;\n",
              "      padding: 0 0 0 0;\n",
              "      width: 32px;\n",
              "    }\n",
              "\n",
              "    .colab-df-convert:hover {\n",
              "      background-color: #E2EBFA;\n",
              "      box-shadow: 0px 1px 2px rgba(60, 64, 67, 0.3), 0px 1px 3px 1px rgba(60, 64, 67, 0.15);\n",
              "      fill: #174EA6;\n",
              "    }\n",
              "\n",
              "    [theme=dark] .colab-df-convert {\n",
              "      background-color: #3B4455;\n",
              "      fill: #D2E3FC;\n",
              "    }\n",
              "\n",
              "    [theme=dark] .colab-df-convert:hover {\n",
              "      background-color: #434B5C;\n",
              "      box-shadow: 0px 1px 3px 1px rgba(0, 0, 0, 0.15);\n",
              "      filter: drop-shadow(0px 1px 2px rgba(0, 0, 0, 0.3));\n",
              "      fill: #FFFFFF;\n",
              "    }\n",
              "  </style>\n",
              "\n",
              "      <script>\n",
              "        const buttonEl =\n",
              "          document.querySelector('#df-30c060a1-7306-4ba1-86e8-cc265ddae61c button.colab-df-convert');\n",
              "        buttonEl.style.display =\n",
              "          google.colab.kernel.accessAllowed ? 'block' : 'none';\n",
              "\n",
              "        async function convertToInteractive(key) {\n",
              "          const element = document.querySelector('#df-30c060a1-7306-4ba1-86e8-cc265ddae61c');\n",
              "          const dataTable =\n",
              "            await google.colab.kernel.invokeFunction('convertToInteractive',\n",
              "                                                     [key], {});\n",
              "          if (!dataTable) return;\n",
              "\n",
              "          const docLinkHtml = 'Like what you see? Visit the ' +\n",
              "            '<a target=\"_blank\" href=https://colab.research.google.com/notebooks/data_table.ipynb>data table notebook</a>'\n",
              "            + ' to learn more about interactive tables.';\n",
              "          element.innerHTML = '';\n",
              "          dataTable['output_type'] = 'display_data';\n",
              "          await google.colab.output.renderOutput(dataTable, element);\n",
              "          const docLink = document.createElement('div');\n",
              "          docLink.innerHTML = docLinkHtml;\n",
              "          element.appendChild(docLink);\n",
              "        }\n",
              "      </script>\n",
              "    </div>\n",
              "  </div>\n",
              "  "
            ]
          },
          "metadata": {},
          "execution_count": 8
        }
      ]
    },
    {
      "cell_type": "code",
      "source": [
        "# percentage of null values per column Aafter null replace\n",
        "df.isnull().sum()/df.shape[0]*100"
      ],
      "metadata": {
        "colab": {
          "base_uri": "https://localhost:8080/"
        },
        "id": "8_qTML_Zj3Ew",
        "outputId": "06e77063-9a6d-4bd7-be5d-dc026c0df635"
      },
      "execution_count": 9,
      "outputs": [
        {
          "output_type": "execute_result",
          "data": {
            "text/plain": [
              "show_id         0.000000\n",
              "type            0.000000\n",
              "title           0.000000\n",
              "director        0.000000\n",
              "cast            0.000000\n",
              "country         0.000000\n",
              "date_added      0.113546\n",
              "release_year    0.000000\n",
              "rating          0.045418\n",
              "duration        0.034064\n",
              "listed_in       0.000000\n",
              "description     0.000000\n",
              "Tags            0.000000\n",
              "dtype: float64"
            ]
          },
          "metadata": {},
          "execution_count": 9
        }
      ]
    },
    {
      "cell_type": "code",
      "source": [
        "import matplotlib.pyplot as plt\n",
        "%matplotlib inline\n",
        "import warnings\n",
        "warnings.filterwarnings('ignore')\n",
        "import seaborn as sns"
      ],
      "metadata": {
        "id": "FjFls1m2j3Hn"
      },
      "execution_count": 10,
      "outputs": []
    },
    {
      "cell_type": "code",
      "source": [
        "labels = 'Movies','TV Shows'\n",
        "x = pd.Series(df['type'])\n",
        "y = x.value_counts()\n",
        "print(y)\n",
        "fig1, ax1 = plt.subplots()\n",
        "ax1.pie(y, labels=labels, autopct='%1.1f%%',startangle = 90, colors=['#d62728','#3776ab' ])\n",
        "plt.title('Netflix Content Breakdown', fontsize = 16)\n",
        "plt.legend()\n",
        "plt.show()"
      ],
      "metadata": {
        "colab": {
          "base_uri": "https://localhost:8080/",
          "height": 320
        },
        "id": "FKfF1-eTj3MD",
        "outputId": "015c5c8b-0bc6-464f-d240-5bfc7749d0ce"
      },
      "execution_count": 11,
      "outputs": [
        {
          "output_type": "stream",
          "name": "stdout",
          "text": [
            "Movie      6131\n",
            "TV Show    2676\n",
            "Name: type, dtype: int64\n"
          ]
        },
        {
          "output_type": "display_data",
          "data": {
            "text/plain": [
              "<Figure size 432x288 with 1 Axes>"
            ],
            "image/png": "[encoded data removed]"
          },
          "metadata": {}
        }
      ]
    },
    {
      "cell_type": "code",
      "source": [
        "df['release_year'].value_counts().head(10)"
      ],
      "metadata": {
        "colab": {
          "base_uri": "https://localhost:8080/"
        },
        "id": "w0eFcAGsj3R0",
        "outputId": "e9ca9287-def7-4746-870f-f37a0354a8fb"
      },
      "execution_count": 12,
      "outputs": [
        {
          "output_type": "execute_result",
          "data": {
            "text/plain": [
              "2018    1147\n",
              "2017    1032\n",
              "2019    1030\n",
              "2020     953\n",
              "2016     902\n",
              "2021     592\n",
              "2015     560\n",
              "2014     352\n",
              "2013     288\n",
              "2012     237\n",
              "Name: release_year, dtype: int64"
            ]
          },
          "metadata": {},
          "execution_count": 12
        }
      ]
    },
    {
      "cell_type": "code",
      "source": [
        "plt.figure(figsize=(13,6))\n",
        "sns.countplot(y='release_year', data=df, palette=\"muted\", order=df['release_year'].value_counts().index[:20])\n",
        "sns.set_style(\"darkgrid\")\n",
        "plt.xlabel('COUNT')\n",
        "plt.ylabel('RELEASE YEAR')\n",
        "plt.show()"
      ],
      "metadata": {
        "colab": {
          "base_uri": "https://localhost:8080/",
          "height": 388
        },
        "id": "-lb2_dUVj3Uq",
        "outputId": "97119835-e65c-43a3-cacd-c6a3b8d1f0d3"
      },
      "execution_count": 13,
      "outputs": [
        {
          "output_type": "display_data",
          "data": {
            "text/plain": [
              "<Figure size 936x432 with 1 Axes>"
            ],
            "image/png": "[encoded data removed]"
          },
          "metadata": {
            "needs_background": "light"
          }
        }
      ]
    },
    {
      "cell_type": "code",
      "source": [
        "#from nltk library - stem the words\n",
        "ps=PorterStemmer()"
      ],
      "metadata": {
        "id": "gAiybU1oj3XR"
      },
      "execution_count": 14,
      "outputs": []
    },
    {
      "cell_type": "code",
      "source": [
        "def stem(text):\n",
        "    x=[]\n",
        "    \n",
        "    for i in text.split():\n",
        "        x.append(ps.stem(i))\n",
        "    return \" \".join(x)"
      ],
      "metadata": {
        "id": "mtgGEs5Dj3aN"
      },
      "execution_count": 15,
      "outputs": []
    },
    {
      "cell_type": "code",
      "source": [
        "# apply stemmer function to new concatenated column\n",
        "for i,row in df.iterrows():\n",
        "    df.loc[i, 'Tags'] = stem(row['Tags'])  "
      ],
      "metadata": {
        "id": "qZdPfoSCj3dD"
      },
      "execution_count": 16,
      "outputs": []
    },
    {
      "cell_type": "code",
      "source": [
        "cv = CountVectorizer(max_features=5000,stop_words='english')\n",
        "vectors = cv.fit_transform(df['Tags']).toarray()"
      ],
      "metadata": {
        "id": "-bY5bo2uj3f8"
      },
      "execution_count": 17,
      "outputs": []
    },
    {
      "cell_type": "code",
      "source": [
        "vectors"
      ],
      "metadata": {
        "colab": {
          "base_uri": "https://localhost:8080/"
        },
        "id": "vjtlHc8Zj3il",
        "outputId": "b43d6eb3-8af3-4f5c-a25c-8f7f587d9386"
      },
      "execution_count": 18,
      "outputs": [
        {
          "output_type": "execute_result",
          "data": {
            "text/plain": [
              "array([[0, 0, 0, ..., 0, 0, 0],\n",
              "       [0, 0, 0, ..., 0, 0, 0],\n",
              "       [0, 0, 0, ..., 0, 0, 0],\n",
              "       ...,\n",
              "       [0, 0, 0, ..., 0, 0, 0],\n",
              "       [0, 0, 0, ..., 0, 0, 0],\n",
              "       [0, 0, 0, ..., 0, 0, 0]])"
            ]
          },
          "metadata": {},
          "execution_count": 18
        }
      ]
    },
    {
      "cell_type": "code",
      "source": [
        "vectors[0]"
      ],
      "metadata": {
        "colab": {
          "base_uri": "https://localhost:8080/"
        },
        "id": "zQJxtvZtj3lZ",
        "outputId": "83fc0c83-ecb0-4491-af40-43cbcc25b342"
      },
      "execution_count": 19,
      "outputs": [
        {
          "output_type": "execute_result",
          "data": {
            "text/plain": [
              "array([0, 0, 0, ..., 0, 0, 0])"
            ]
          },
          "metadata": {},
          "execution_count": 19
        }
      ]
    },
    {
      "cell_type": "code",
      "source": [
        "# add ; to suppress output\n",
        "cv.get_feature_names();"
      ],
      "metadata": {
        "id": "UHL3yiX4j3ob"
      },
      "execution_count": 20,
      "outputs": []
    },
    {
      "cell_type": "code",
      "source": [
        "similarity = cosine_similarity(vectors)"
      ],
      "metadata": {
        "id": "Bh1a7uq0jyIz"
      },
      "execution_count": 21,
      "outputs": []
    },
    {
      "cell_type": "code",
      "source": [
        "similarity[0]"
      ],
      "metadata": {
        "colab": {
          "base_uri": "https://localhost:8080/"
        },
        "id": "oyWj58TZkdcZ",
        "outputId": "ea8ed5cf-fecb-421f-e174-95f003fe4cb3"
      },
      "execution_count": 22,
      "outputs": [
        {
          "output_type": "execute_result",
          "data": {
            "text/plain": [
              "array([1.        , 0.        , 0.09658906, ..., 0.12777531, 0.11952286,\n",
              "       0.22934124])"
            ]
          },
          "metadata": {},
          "execution_count": 22
        }
      ]
    },
    {
      "cell_type": "code",
      "source": [
        "df[df['title'].str.contains(\"Jaws\")]"
      ],
      "metadata": {
        "colab": {
          "base_uri": "https://localhost:8080/",
          "height": 534
        },
        "id": "5rFY8MNBkdfa",
        "outputId": "8a4ab201-0027-4879-8378-6e7f950646b9"
      },
      "execution_count": 23,
      "outputs": [
        {
          "output_type": "execute_result",
          "data": {
            "text/plain": [
              "   show_id   type              title          director  \\\n",
              "41     s42  Movie               Jaws  Steven Spielberg   \n",
              "42     s43  Movie             Jaws 2    Jeannot Szwarc   \n",
              "43     s44  Movie             Jaws 3         Joe Alves   \n",
              "44     s45  Movie  Jaws: The Revenge    Joseph Sargent   \n",
              "\n",
              "                                                 cast        country  \\\n",
              "41  Roy Scheider, Robert Shaw, Richard Dreyfuss, L...  United States   \n",
              "42  Roy Scheider, Lorraine Gary, Murray Hamilton, ...  United States   \n",
              "43  Dennis Quaid, Bess Armstrong, Simon MacCorkind...  United States   \n",
              "44  Lorraine Gary, Lance Guest, Mario Van Peebles,...  United States   \n",
              "\n",
              "            date_added  release_year rating duration  \\\n",
              "41  September 16, 2021          1975     PG  124 min   \n",
              "42  September 16, 2021          1978     PG  116 min   \n",
              "43  September 16, 2021          1983     PG   98 min   \n",
              "44  September 16, 2021          1987  PG-13   91 min   \n",
              "\n",
              "                                       listed_in  \\\n",
              "41    Action & Adventure, Classic Movies, Dramas   \n",
              "42              Dramas, Horror Movies, Thrillers   \n",
              "43  Action & Adventure, Horror Movies, Thrillers   \n",
              "44  Action & Adventure, Horror Movies, Thrillers   \n",
              "\n",
              "                                          description  \\\n",
              "41  When an insatiable great white shark terrorize...   \n",
              "42  Four years after the last deadly shark attacks...   \n",
              "43  After the staff of a marine theme park try to ...   \n",
              "44  After another deadly shark attack, Ellen Brody...   \n",
              "\n",
              "                                                 Tags  \n",
              "41  movi jaw steven spielberg roy scheider, robert...  \n",
              "42  movi jaw 2 jeannot szwarc roy scheider, lorrai...  \n",
              "43  movi jaw 3 joe alv denni quaid, bess armstrong...  \n",
              "44  movi jaws: the reveng joseph sargent lorrain g...  "
            ],
            "text/html": [
              "\n",
              "  <div id=\"df-f676371b-1b54-49c5-91b5-d33f507621a8\">\n",
              "    <div class=\"colab-df-container\">\n",
              "      <div>\n",
              "<style scoped>\n",
              "    .dataframe tbody tr th:only-of-type {\n",
              "        vertical-align: middle;\n",
              "    }\n",
              "\n",
              "    .dataframe tbody tr th {\n",
              "        vertical-align: top;\n",
              "    }\n",
              "\n",
              "    .dataframe thead th {\n",
              "        text-align: right;\n",
              "    }\n",
              "</style>\n",
              "<table border=\"1\" class=\"dataframe\">\n",
              "  <thead>\n",
              "    <tr style=\"text-align: right;\">\n",
              "      <th></th>\n",
              "      <th>show_id</th>\n",
              "      <th>type</th>\n",
              "      <th>title</th>\n",
              "      <th>director</th>\n",
              "      <th>cast</th>\n",
              "      <th>country</th>\n",
              "      <th>date_added</th>\n",
              "      <th>release_year</th>\n",
              "      <th>rating</th>\n",
              "      <th>duration</th>\n",
              "      <th>listed_in</th>\n",
              "      <th>description</th>\n",
              "      <th>Tags</th>\n",
              "    </tr>\n",
              "  </thead>\n",
              "  <tbody>\n",
              "    <tr>\n",
              "      <th>41</th>\n",
              "      <td>s42</td>\n",
              "      <td>Movie</td>\n",
              "      <td>Jaws</td>\n",
              "      <td>Steven Spielberg</td>\n",
              "      <td>Roy Scheider, Robert Shaw, Richard Dreyfuss, L...</td>\n",
              "      <td>United States</td>\n",
              "      <td>September 16, 2021</td>\n",
              "      <td>1975</td>\n",
              "      <td>PG</td>\n",
              "      <td>124 min</td>\n",
              "      <td>Action &amp; Adventure, Classic Movies, Dramas</td>\n",
              "      <td>When an insatiable great white shark terrorize...</td>\n",
              "      <td>movi jaw steven spielberg roy scheider, robert...</td>\n",
              "    </tr>\n",
              "    <tr>\n",
              "      <th>42</th>\n",
              "      <td>s43</td>\n",
              "      <td>Movie</td>\n",
              "      <td>Jaws 2</td>\n",
              "      <td>Jeannot Szwarc</td>\n",
              "      <td>Roy Scheider, Lorraine Gary, Murray Hamilton, ...</td>\n",
              "      <td>United States</td>\n",
              "      <td>September 16, 2021</td>\n",
              "      <td>1978</td>\n",
              "      <td>PG</td>\n",
              "      <td>116 min</td>\n",
              "      <td>Dramas, Horror Movies, Thrillers</td>\n",
              "      <td>Four years after the last deadly shark attacks...</td>\n",
              "      <td>movi jaw 2 jeannot szwarc roy scheider, lorrai...</td>\n",
              "    </tr>\n",
              "    <tr>\n",
              "      <th>43</th>\n",
              "      <td>s44</td>\n",
              "      <td>Movie</td>\n",
              "      <td>Jaws 3</td>\n",
              "      <td>Joe Alves</td>\n",
              "      <td>Dennis Quaid, Bess Armstrong, Simon MacCorkind...</td>\n",
              "      <td>United States</td>\n",
              "      <td>September 16, 2021</td>\n",
              "      <td>1983</td>\n",
              "      <td>PG</td>\n",
              "      <td>98 min</td>\n",
              "      <td>Action &amp; Adventure, Horror Movies, Thrillers</td>\n",
              "      <td>After the staff of a marine theme park try to ...</td>\n",
              "      <td>movi jaw 3 joe alv denni quaid, bess armstrong...</td>\n",
              "    </tr>\n",
              "    <tr>\n",
              "      <th>44</th>\n",
              "      <td>s45</td>\n",
              "      <td>Movie</td>\n",
              "      <td>Jaws: The Revenge</td>\n",
              "      <td>Joseph Sargent</td>\n",
              "      <td>Lorraine Gary, Lance Guest, Mario Van Peebles,...</td>\n",
              "      <td>United States</td>\n",
              "      <td>September 16, 2021</td>\n",
              "      <td>1987</td>\n",
              "      <td>PG-13</td>\n",
              "      <td>91 min</td>\n",
              "      <td>Action &amp; Adventure, Horror Movies, Thrillers</td>\n",
              "      <td>After another deadly shark attack, Ellen Brody...</td>\n",
              "      <td>movi jaws: the reveng joseph sargent lorrain g...</td>\n",
              "    </tr>\n",
              "  </tbody>\n",
              "</table>\n",
              "</div>\n",
              "      <button class=\"colab-df-convert\" onclick=\"convertToInteractive('df-f676371b-1b54-49c5-91b5-d33f507621a8')\"\n",
              "              title=\"Convert this dataframe to an interactive table.\"\n",
              "              style=\"display:none;\">\n",
              "        \n",
              "  <svg xmlns=\"http://www.w3.org/2000/svg\" height=\"24px\"viewBox=\"0 0 24 24\"\n",
              "       width=\"24px\">\n",
              "    <path d=\"M0 0h24v24H0V0z\" fill=\"none\"/>\n",
              "    <path d=\"M18.56 5.44l.94 2.06.94-2.06 2.06-.94-2.06-.94-.94-2.06-.94 2.06-2.06.94zm-11 1L8.5 8.5l.94-2.06 2.06-.94-2.06-.94L8.5 2.5l-.94 2.06-2.06.94zm10 10l.94 2.06.94-2.06 2.06-.94-2.06-.94-.94-2.06-.94 2.06-2.06.94z\"/><path d=\"M17.41 7.96l-1.37-1.37c-.4-.4-.92-.59-1.43-.59-.52 0-1.04.2-1.43.59L10.3 9.45l-7.72 7.72c-.78.78-.78 2.05 0 2.83L4 21.41c.39.39.9.59 1.41.59.51 0 1.02-.2 1.41-.59l7.78-7.78 2.81-2.81c.8-.78.8-2.07 0-2.86zM5.41 20L4 18.59l7.72-7.72 1.47 1.35L5.41 20z\"/>\n",
              "  </svg>\n",
              "      </button>\n",
              "      \n",
              "  <style>\n",
              "    .colab-df-container {\n",
              "      display:flex;\n",
              "      flex-wrap:wrap;\n",
              "      gap: 12px;\n",
              "    }\n",
              "\n",
              "    .colab-df-convert {\n",
              "      background-color: #E8F0FE;\n",
              "      border: none;\n",
              "      border-radius: 50%;\n",
              "      cursor: pointer;\n",
              "      display: none;\n",
              "      fill: #1967D2;\n",
              "      height: 32px;\n",
              "      padding: 0 0 0 0;\n",
              "      width: 32px;\n",
              "    }\n",
              "\n",
              "    .colab-df-convert:hover {\n",
              "      background-color: #E2EBFA;\n",
              "      box-shadow: 0px 1px 2px rgba(60, 64, 67, 0.3), 0px 1px 3px 1px rgba(60, 64, 67, 0.15);\n",
              "      fill: #174EA6;\n",
              "    }\n",
              "\n",
              "    [theme=dark] .colab-df-convert {\n",
              "      background-color: #3B4455;\n",
              "      fill: #D2E3FC;\n",
              "    }\n",
              "\n",
              "    [theme=dark] .colab-df-convert:hover {\n",
              "      background-color: #434B5C;\n",
              "      box-shadow: 0px 1px 3px 1px rgba(0, 0, 0, 0.15);\n",
              "      filter: drop-shadow(0px 1px 2px rgba(0, 0, 0, 0.3));\n",
              "      fill: #FFFFFF;\n",
              "    }\n",
              "  </style>\n",
              "\n",
              "      <script>\n",
              "        const buttonEl =\n",
              "          document.querySelector('#df-f676371b-1b54-49c5-91b5-d33f507621a8 button.colab-df-convert');\n",
              "        buttonEl.style.display =\n",
              "          google.colab.kernel.accessAllowed ? 'block' : 'none';\n",
              "\n",
              "        async function convertToInteractive(key) {\n",
              "          const element = document.querySelector('#df-f676371b-1b54-49c5-91b5-d33f507621a8');\n",
              "          const dataTable =\n",
              "            await google.colab.kernel.invokeFunction('convertToInteractive',\n",
              "                                                     [key], {});\n",
              "          if (!dataTable) return;\n",
              "\n",
              "          const docLinkHtml = 'Like what you see? Visit the ' +\n",
              "            '<a target=\"_blank\" href=https://colab.research.google.com/notebooks/data_table.ipynb>data table notebook</a>'\n",
              "            + ' to learn more about interactive tables.';\n",
              "          element.innerHTML = '';\n",
              "          dataTable['output_type'] = 'display_data';\n",
              "          await google.colab.output.renderOutput(dataTable, element);\n",
              "          const docLink = document.createElement('div');\n",
              "          docLink.innerHTML = docLinkHtml;\n",
              "          element.appendChild(docLink);\n",
              "        }\n",
              "      </script>\n",
              "    </div>\n",
              "  </div>\n",
              "  "
            ]
          },
          "metadata": {},
          "execution_count": 23
        }
      ]
    },
    {
      "cell_type": "code",
      "source": [
        "# added ; to suppress output\n",
        "sorted(similarity[41]);"
      ],
      "metadata": {
        "id": "pVJpAClXkdk5"
      },
      "execution_count": 24,
      "outputs": []
    },
    {
      "cell_type": "code",
      "source": [
        "%%capture\n",
        "for count, value in enumerate(similarity[41]):\n",
        "        print(count, value)"
      ],
      "metadata": {
        "id": "S6LqFRlHkdnj"
      },
      "execution_count": 25,
      "outputs": []
    },
    {
      "cell_type": "code",
      "source": [
        "# added ; to suppress output\n",
        "list(enumerate(similarity[41]));"
      ],
      "metadata": {
        "id": "BWjtmSrkkdqg"
      },
      "execution_count": 26,
      "outputs": []
    },
    {
      "cell_type": "code",
      "source": [
        "# added ; to suppress output\n",
        "sorted(list(enumerate(similarity[41])),reverse=True);"
      ],
      "metadata": {
        "id": "fBKHoFlXkdtL"
      },
      "execution_count": 27,
      "outputs": []
    },
    {
      "cell_type": "code",
      "source": [
        "# added ; to suppress output\n",
        "sorted(list(enumerate(similarity[41])),reverse=True, key=lambda x:x[1]);"
      ],
      "metadata": {
        "id": "j_mK46HvkdwB"
      },
      "execution_count": 28,
      "outputs": []
    },
    {
      "cell_type": "code",
      "source": [
        "def recommend(movie):\n",
        "     \n",
        "    movie_list = df[df['title'].str.contains(movie)] \n",
        "     \n",
        "    if len(movie_list):\n",
        "        movie_idx = movie_list.index[0]\n",
        "        distances = similarity[movie_idx] \n",
        "                                        \n",
        "        \n",
        "        movies_list = sorted(list(enumerate(distances)),reverse=True, key=lambda x:x[1])[1:11]       \n",
        "            \n",
        "        \n",
        "        print('Recommendations for {0} :\\n'.format(movie_list.iloc[0]['title']))\n",
        "        for i in movies_list: \n",
        "            print(df.iloc[i[0]].title)\n",
        "    \n",
        "    else:\n",
        "        return \"No movies found.  Please check your input\" "
      ],
      "metadata": {
        "id": "IdG1tiZTkdyr"
      },
      "execution_count": 29,
      "outputs": []
    },
    {
      "cell_type": "code",
      "source": [
        "recommend('Jaws')"
      ],
      "metadata": {
        "colab": {
          "base_uri": "https://localhost:8080/"
        },
        "id": "6UueEgaek4My",
        "outputId": "decd690e-45c7-4e04-df8e-c62a6fcd45dd"
      },
      "execution_count": 30,
      "outputs": [
        {
          "output_type": "stream",
          "name": "stdout",
          "text": [
            "Recommendations for Jaws :\n",
            "\n",
            "Jaws 2\n",
            "Jaws: The Revenge\n",
            "Indiana Jones and the Temple of Doom\n",
            "Jaws 3\n",
            "Mutiny on the Bounty\n",
            "In The Deep\n",
            "Midnight Run\n",
            "Superfly\n",
            "Tremors: Shrieker Island\n",
            "Indiana Jones and the Last Crusade\n"
          ]
        }
      ]
    },
    {
      "cell_type": "code",
      "source": [
        ""
      ],
      "metadata": {
        "id": "Mspgf6WLk6lK"
      },
      "execution_count": 30,
      "outputs": []
    },
    {
      "cell_type": "code",
      "source": [
        "list_of_titles=df['title'].tolist()\n",
        "num_titles = len(list_of_titles)"
      ],
      "metadata": {
        "id": "1PJphbzNk6oj"
      },
      "execution_count": 31,
      "outputs": []
    },
    {
      "cell_type": "code",
      "source": [
        "# Step 2: select some random titles\n",
        "num_samples = 30\n",
        "random_indices = np.random.choice(num_titles, size=num_samples, replace=False)  # Random indicies in [0, 1, ..., num_titles]"
      ],
      "metadata": {
        "id": "YKtV4APGk6rX"
      },
      "execution_count": 32,
      "outputs": []
    },
    {
      "cell_type": "code",
      "source": [
        "random_titles = []\n",
        "for index in random_indices:\n",
        "    random_titles.append(list_of_titles[index])"
      ],
      "metadata": {
        "id": "BdRn1gvXk6uP"
      },
      "execution_count": 33,
      "outputs": []
    },
    {
      "cell_type": "code",
      "source": [
        "random_indices"
      ],
      "metadata": {
        "colab": {
          "base_uri": "https://localhost:8080/"
        },
        "id": "pm9Z6yH0k6xW",
        "outputId": "592a07ae-a956-41c6-bac4-b674838d8a4d"
      },
      "execution_count": 34,
      "outputs": [
        {
          "output_type": "execute_result",
          "data": {
            "text/plain": [
              "array([1098, 6426, 5638, 8295, 3421, 3077, 4920, 4739,  779, 3368, 5727,\n",
              "       3454, 8294, 2616, 7964, 6591, 4042, 7053, 6400, 1607, 4935,  417,\n",
              "       4567, 1662, 5221, 2453, 7048, 1964, 7318, 3438])"
            ]
          },
          "metadata": {},
          "execution_count": 34
        }
      ]
    },
    {
      "cell_type": "code",
      "source": [
        "print(random_titles)"
      ],
      "metadata": {
        "id": "chca2nIfx4PW",
        "outputId": "9c409e43-dbab-4571-ca81-b1af3ec0b3e2",
        "colab": {
          "base_uri": "https://localhost:8080/"
        }
      },
      "execution_count": 35,
      "outputs": [
        {
          "output_type": "stream",
          "name": "stdout",
          "text": [
            "['Mandela', 'Case Closed', 'Very Big Shot', 'The Feels', 'Sinister 2', 'Aaviri', 'Dude', 'Being Napoleon', 'Battlefield Earth', 'A Little Thing Called First Love', 'Inborn Pair', 'Rotten', 'The Fear of 13', 'Görümce', 'Searching for Bobby Fischer', 'Democrats', 'American Crime Story: The People v. O.J. Simpson', 'Ideachi Kalpana', 'Caida del Cielo', 'Hazel Brugger: Tropical', 'Amateur', 'Chhota Bheem in African Safari', 'Haani', 'The Suit', 'West Coast Customs', 'Revolutionary Love', \"I'll See You in My Dreams\", 'High & Low The Movie', 'Little Singham Bandarpur Mein Hu Ha Hu', 'After']\n"
          ]
        }
      ]
    },
    {
      "cell_type": "markdown",
      "source": [
        "# New Section"
      ],
      "metadata": {
        "id": "GeQN36TzmA0p"
      }
    },
    {
      "cell_type": "code",
      "source": [
        "def recommend(movie):\n",
        "     \n",
        "    movie_list = df[df['title'].str.contains(movie)] \n",
        "     \n",
        "    if len(movie_list):\n",
        "        movie_idx = movie_list.index[0]\n",
        "        distances = similarity[movie_idx] \n",
        "                                        \n",
        "        \n",
        "        movies_list = sorted(list(enumerate(distances)),reverse=True, key=lambda x:x[1])[1:11]     \n",
        "        score_cutoff = 0.27\n",
        "        good_movies_list = []\n",
        "        for index, score in movies_list:\n",
        "            if score > score_cutoff:\n",
        "                good_movies_list.append( (index, score) )\n",
        "            \n",
        "        \n",
        "        print('Recommendations for {0} :\\n'.format(movie_list.iloc[0]['title']))\n",
        "        for i in good_movies_list: \n",
        "            print(f'Movie: {df.iloc[i[0]].title}  Score: {i[1]}') # Print title and score\n",
        "    \n",
        "    else:\n",
        "        return \"No movies found.  Please check your input\" "
      ],
      "metadata": {
        "id": "wnZMgpNZlAd4"
      },
      "execution_count": 36,
      "outputs": []
    },
    {
      "cell_type": "code",
      "source": [
        "random_indices"
      ],
      "metadata": {
        "colab": {
          "base_uri": "https://localhost:8080/"
        },
        "id": "2PnkfoFqrvce",
        "outputId": "9cef4eb2-9b4d-4b11-a57d-18816948468a"
      },
      "execution_count": 37,
      "outputs": [
        {
          "output_type": "execute_result",
          "data": {
            "text/plain": [
              "array([1098, 6426, 5638, 8295, 3421, 3077, 4920, 4739,  779, 3368, 5727,\n",
              "       3454, 8294, 2616, 7964, 6591, 4042, 7053, 6400, 1607, 4935,  417,\n",
              "       4567, 1662, 5221, 2453, 7048, 1964, 7318, 3438])"
            ]
          },
          "metadata": {},
          "execution_count": 37
        }
      ]
    },
    {
      "cell_type": "code",
      "source": [
        "recommend('Jaws')"
      ],
      "metadata": {
        "colab": {
          "base_uri": "https://localhost:8080/"
        },
        "id": "qvWQMr0nlAgr",
        "outputId": "9cb535e2-38b7-4052-b11e-9fdefd71d438"
      },
      "execution_count": 38,
      "outputs": [
        {
          "output_type": "stream",
          "name": "stdout",
          "text": [
            "Recommendations for Jaws :\n",
            "\n",
            "Movie: Jaws 2  Score: 0.4932200252078107\n",
            "Movie: Jaws: The Revenge  Score: 0.38888888888888895\n",
            "Movie: Indiana Jones and the Temple of Doom  Score: 0.282842712474619\n",
            "Movie: Jaws 3  Score: 0.2777777777777778\n",
            "Movie: Mutiny on the Bounty  Score: 0.2777777777777778\n",
            "Movie: In The Deep  Score: 0.27399831217559545\n",
            "Movie: Midnight Run  Score: 0.27031025295064476\n"
          ]
        }
      ]
    },
    {
      "cell_type": "code",
      "source": [
        "print(random_titles)"
      ],
      "metadata": {
        "id": "GqC5EaGUyE71",
        "outputId": "662d045a-2a1e-4a10-8bd2-11856895cd1e",
        "colab": {
          "base_uri": "https://localhost:8080/"
        }
      },
      "execution_count": 39,
      "outputs": [
        {
          "output_type": "stream",
          "name": "stdout",
          "text": [
            "['Mandela', 'Case Closed', 'Very Big Shot', 'The Feels', 'Sinister 2', 'Aaviri', 'Dude', 'Being Napoleon', 'Battlefield Earth', 'A Little Thing Called First Love', 'Inborn Pair', 'Rotten', 'The Fear of 13', 'Görümce', 'Searching for Bobby Fischer', 'Democrats', 'American Crime Story: The People v. O.J. Simpson', 'Ideachi Kalpana', 'Caida del Cielo', 'Hazel Brugger: Tropical', 'Amateur', 'Chhota Bheem in African Safari', 'Haani', 'The Suit', 'West Coast Customs', 'Revolutionary Love', \"I'll See You in My Dreams\", 'High & Low The Movie', 'Little Singham Bandarpur Mein Hu Ha Hu', 'After']\n"
          ]
        }
      ]
    },
    {
      "cell_type": "code",
      "source": [
        "recommend('Mandela')"
      ],
      "metadata": {
        "colab": {
          "base_uri": "https://localhost:8080/"
        },
        "id": "DiKUSVX0rnuZ",
        "outputId": "094755cb-529c-48c1-9d02-d18e5cf4931a"
      },
      "execution_count": 40,
      "outputs": [
        {
          "output_type": "stream",
          "name": "stdout",
          "text": [
            "Recommendations for Mandela :\n",
            "\n",
            "Movie: Irada Pakka  Score: 0.41962716370814124\n",
            "Movie: Aata Pita  Score: 0.4095141796739611\n",
            "Movie: Babamın Ceketi  Score: 0.4045773899393389\n",
            "Movie: Adhugo  Score: 0.4045773899393389\n",
            "Movie: Hombanna  Score: 0.4045773899393389\n",
            "Movie: Merku Thodarchi Malai  Score: 0.39130434782608703\n",
            "Movie: Jatt James Bond  Score: 0.39130434782608703\n",
            "Movie: AK vs AK  Score: 0.38720154633118314\n",
            "Movie: Pahuna  Score: 0.38306543884143696\n",
            "Movie: Motichoor Chaknachoor  Score: 0.38306543884143696\n"
          ]
        }
      ]
    },
    {
      "cell_type": "code",
      "source": [
        "recommend('American Crime Story: The People v. O.J. Simpson')"
      ],
      "metadata": {
        "colab": {
          "base_uri": "https://localhost:8080/"
        },
        "id": "N9f2kXDKrn0H",
        "outputId": "eacb38ff-f2c0-4c21-ecd8-4a07e6a8a979"
      },
      "execution_count": 44,
      "outputs": [
        {
          "output_type": "stream",
          "name": "stdout",
          "text": [
            "Recommendations for American Crime Story: The People v. O.J. Simpson :\n",
            "\n",
            "Movie: Unsolved  Score: 0.4892748924933745\n",
            "Movie: Exhibit A  Score: 0.4714770836361918\n",
            "Movie: The Confession Tapes  Score: 0.4635235823621443\n",
            "Movie: Get Shorty  Score: 0.4567501391955698\n",
            "Movie: American Crime  Score: 0.4426338948728194\n",
            "Movie: The Good Cop  Score: 0.4317328917763455\n",
            "Movie: Trial By Media  Score: 0.42958889136137857\n",
            "Movie: Father Brown  Score: 0.42709927780721924\n",
            "Movie: The Assassination of Gianni Versace  Score: 0.4254814716983816\n",
            "Movie: I AM A KILLER  Score: 0.42449996757292036\n"
          ]
        }
      ]
    },
    {
      "cell_type": "code",
      "source": [
        "recommend('Being Napoleon')"
      ],
      "metadata": {
        "colab": {
          "base_uri": "https://localhost:8080/"
        },
        "id": "nREwFOdmrn3E",
        "outputId": "d0f855b1-04d1-443b-ac5b-70e2c395efdb"
      },
      "execution_count": 42,
      "outputs": [
        {
          "output_type": "stream",
          "name": "stdout",
          "text": [
            "Recommendations for Being Napoleon :\n",
            "\n",
            "Movie: Why We Fight: The Battle of Russia  Score: 0.39999999999999997\n",
            "Movie: Prelude to War  Score: 0.3731012536223182\n",
            "Movie: Heroin(e)  Score: 0.34412360080584264\n",
            "Movie: AlphaGo  Score: 0.33407655239053047\n",
            "Movie: Being Elmo: A Puppeteer's Journey  Score: 0.32496684180984076\n",
            "Movie: Tread  Score: 0.32274861218395134\n",
            "Movie: Silicon Cowboys  Score: 0.32274861218395134\n",
            "Movie: Unknown  Score: 0.31622776601683794\n",
            "Movie: The Last Blockbuster  Score: 0.3125\n",
            "Movie: Human Nature  Score: 0.3125\n"
          ]
        }
      ]
    },
    {
      "cell_type": "code",
      "source": [
        "recommend('Searching for Bobby Fischer')"
      ],
      "metadata": {
        "colab": {
          "base_uri": "https://localhost:8080/"
        },
        "id": "4XcUkh4Ern7-",
        "outputId": "e0ba8a05-411c-404b-837b-21b7d556654e"
      },
      "execution_count": 43,
      "outputs": [
        {
          "output_type": "stream",
          "name": "stdout",
          "text": [
            "Recommendations for Searching for Bobby Fischer :\n",
            "\n",
            "Movie: Osmosis Jones  Score: 0.37670528747840887\n",
            "Movie: Hachi: A Dog's Tale  Score: 0.3594473161741678\n",
            "Movie: The Karate Kid  Score: 0.3383764840919799\n",
            "Movie: Indiana Jones and the Last Crusade  Score: 0.3346580611898702\n",
            "Movie: Canvas  Score: 0.33129457822453967\n",
            "Movie: The Water Man  Score: 0.31707317073170743\n",
            "Movie: The Breadwinner  Score: 0.3170731707317073\n",
            "Movie: Get Santa  Score: 0.3167782064090728\n",
            "Movie: The Boy Who Harnessed the Wind  Score: 0.31234752377721214\n",
            "Movie: The Boy in the Striped Pajamas  Score: 0.31234752377721214\n"
          ]
        }
      ]
    },
    {
      "cell_type": "code",
      "source": [
        "recommend('Gunshot')"
      ],
      "metadata": {
        "colab": {
          "base_uri": "https://localhost:8080/"
        },
        "id": "pVEsNmO3rn_s",
        "outputId": "39611c64-62b3-4ad7-ebf2-e7a30bda6def"
      },
      "execution_count": 45,
      "outputs": [
        {
          "output_type": "stream",
          "name": "stdout",
          "text": [
            "Recommendations for Gunshot :\n",
            "\n",
            "Movie: Sorry To Disturb  Score: 0.5442477655948227\n",
            "Movie: Son Of Adam  Score: 0.5325179035528812\n",
            "Movie: An Hour and a Half  Score: 0.5262013605584339\n",
            "Movie: 678  Score: 0.5135717874467444\n",
            "Movie: اشتباك  Score: 0.5022831168966869\n",
            "Movie: الف مبروك  Score: 0.5006261743217588\n",
            "Movie: Boushkash  Score: 0.4953090647358553\n",
            "Movie: El-Khawaga's Dilemma  Score: 0.4905114715879727\n",
            "Movie: The Dealer  Score: 0.4800426723563985\n",
            "Movie: Asmaa  Score: 0.46169025843831946\n"
          ]
        }
      ]
    },
    {
      "cell_type": "code",
      "source": [
        "recommend('Hollywood')"
      ],
      "metadata": {
        "colab": {
          "base_uri": "https://localhost:8080/"
        },
        "id": "5rytKeftlAjb",
        "outputId": "07da1336-9956-4a52-be69-c8a3d9400985"
      },
      "execution_count": 46,
      "outputs": [
        {
          "output_type": "stream",
          "name": "stdout",
          "text": [
            "Recommendations for Palermo Hollywood :\n",
            "\n",
            "Movie: From Stress to Happiness  Score: 0.3670651741928988\n",
            "Movie: Here and There  Score: 0.3411211461689767\n",
            "Movie: Match  Score: 0.3411211461689767\n",
            "Movie: AK vs AK  Score: 0.33425160871869336\n",
            "Movie: Si Doel the Movie 2  Score: 0.3265986323710905\n",
            "Movie: Highway  Score: 0.32118202741878643\n",
            "Movie: Si Doel the Movie  Score: 0.32\n",
            "Movie: Confusion Na Wa  Score: 0.31819805153394637\n",
            "Movie: Haapus  Score: 0.31304951684997057\n",
            "Movie: Alarmoty in the Land of Fire  Score: 0.30983866769659335\n"
          ]
        }
      ]
    },
    {
      "cell_type": "code",
      "source": [
        "recommend('Dave Chappelle: Equanimity & The Bird Revelation')"
      ],
      "metadata": {
        "colab": {
          "base_uri": "https://localhost:8080/"
        },
        "id": "phxUPGwJlAmU",
        "outputId": "391c2e6a-75e1-4e87-ef7b-e07455a8bcb8"
      },
      "execution_count": 47,
      "outputs": [
        {
          "output_type": "stream",
          "name": "stdout",
          "text": [
            "Recommendations for Dave Chappelle: Equanimity & The Bird Revelation :\n",
            "\n",
            "Movie: Dave Chappelle  Score: 0.7872340425531916\n",
            "Movie: Dave Chappelle: Sticks & Stones  Score: 0.6287550204746953\n",
            "Movie: Chappelle's Show  Score: 0.6007360460751543\n",
            "Movie: Bumping Mics with Jeff Ross & Dave Attell  Score: 0.5626221100633074\n",
            "Movie: The Honeymoon Stand Up Special  Score: 0.5414961542858665\n",
            "Movie: Queens of Comedy  Score: 0.5205733767083311\n",
            "Movie: Chelsea  Score: 0.5170542049716025\n",
            "Movie: Schulz Saves America  Score: 0.5052911526399114\n",
            "Movie: The Comedy Lineup  Score: 0.49508219820422084\n",
            "Movie: The Degenerates  Score: 0.48992509197292683\n"
          ]
        }
      ]
    },
    {
      "cell_type": "code",
      "source": [
        "recommend('7SEEDS')"
      ],
      "metadata": {
        "colab": {
          "base_uri": "https://localhost:8080/"
        },
        "id": "U5RXY6PFsAqn",
        "outputId": "faff595b-6b17-4a26-82ad-0c38114e4f40"
      },
      "execution_count": 48,
      "outputs": [
        {
          "output_type": "stream",
          "name": "stdout",
          "text": [
            "Recommendations for 7SEEDS :\n",
            "\n",
            "Movie: High-Rise Invasion  Score: 0.40754719379251503\n",
            "Movie: K  Score: 0.37674325988790797\n",
            "Movie: Magi: Adventure of Sinbad  Score: 0.35701357669110867\n",
            "Movie: JoJo's Bizarre Adventure  Score: 0.35197257645717206\n",
            "Movie: Cyborg 009: Call of Justice  Score: 0.3478041718201262\n",
            "Movie: One-Punch Man  Score: 0.33866700533384136\n",
            "Movie: Gargantia on the Verdurous Planet  Score: 0.3201043473133104\n",
            "Movie: AJIN: Demi-Human  Score: 0.31430927854685603\n",
            "Movie: Blue Exorcist  Score: 0.3053290134455174\n",
            "Movie: Violet Evergarden: Special  Score: 0.3050444380432816\n"
          ]
        }
      ]
    },
    {
      "cell_type": "code",
      "source": [
        "recommend('Funny Boy')"
      ],
      "metadata": {
        "colab": {
          "base_uri": "https://localhost:8080/"
        },
        "id": "Po0D-XBUsAxo",
        "outputId": "5984f127-a6de-4d3c-d740-06e6978d7a61"
      },
      "execution_count": 49,
      "outputs": [
        {
          "output_type": "stream",
          "name": "stdout",
          "text": [
            "Recommendations for Funny Boy :\n",
            "\n",
            "Movie: The Breadwinner  Score: 0.3748170285326546\n",
            "Movie: Bwakaw  Score: 0.35355339059327373\n",
            "Movie: Pray Away  Score: 0.34914862437758787\n",
            "Movie: Saturday Church  Score: 0.3478505426185218\n",
            "Movie: The Boy in the Striped Pajamas  Score: 0.34285714285714286\n",
            "Movie: All In My Family  Score: 0.3401680257083045\n",
            "Movie: A Separation  Score: 0.3336230624913197\n",
            "Movie: Q Ball  Score: 0.3265986323710905\n",
            "Movie: Feminists: What Were They Thinking?  Score: 0.32659863237109044\n",
            "Movie: Moonlight  Score: 0.32444284226152514\n"
          ]
        }
      ]
    },
    {
      "cell_type": "code",
      "source": [
        "recommend('Barney and Friends')"
      ],
      "metadata": {
        "colab": {
          "base_uri": "https://localhost:8080/"
        },
        "id": "dl0xiDQVsA0v",
        "outputId": "021415a7-f21e-47ed-f771-5938ff5fefc9"
      },
      "execution_count": 50,
      "outputs": [
        {
          "output_type": "stream",
          "name": "stdout",
          "text": [
            "Recommendations for Barney and Friends :\n",
            "\n",
            "Movie: The Wiggles  Score: 0.40249223594996214\n",
            "Movie: Pororo - The Little Penguin  Score: 0.3922322702763681\n",
            "Movie: JingleKids  Score: 0.38805700005813276\n",
            "Movie: The InBESTigators  Score: 0.3779644730092272\n",
            "Movie: Cupcake & Dino - General Services  Score: 0.3748170285326546\n",
            "Movie: Qurious Como  Score: 0.3741657386773942\n",
            "Movie: DreamWorks Spooky Stories: Volume 2  Score: 0.37186787208054733\n",
            "Movie: Loo Loo Kids: Johny & Friends Musical Adventures  Score: 0.3718678720805473\n",
            "Movie: Larva  Score: 0.3713906763541037\n",
            "Movie: Sunny Bunnies  Score: 0.3713906763541037\n"
          ]
        }
      ]
    },
    {
      "cell_type": "code",
      "source": [
        "recommend('Talladega Nights: The Ballad of Ricky Bobby')"
      ],
      "metadata": {
        "colab": {
          "base_uri": "https://localhost:8080/"
        },
        "id": "5_fqBqyltx4Y",
        "outputId": "07719708-473b-4513-cbef-2fd774cf8222"
      },
      "execution_count": 51,
      "outputs": [
        {
          "output_type": "stream",
          "name": "stdout",
          "text": [
            "Recommendations for Talladega Nights: The Ballad of Ricky Bobby :\n",
            "\n",
            "Movie: Ricky Gervais: Humanity  Score: 0.32338083338177726\n",
            "Movie: Triumph of the Heart  Score: 0.307697694415248\n",
            "Movie: Bobby Robson: More Than a Manager  Score: 0.3061618117884868\n",
            "Movie: Zion  Score: 0.29197858123689185\n",
            "Movie: Stripes  Score: 0.287824837800531\n",
            "Movie: Best of the Best  Score: 0.28429311094645204\n",
            "Movie: Private Life  Score: 0.28005601680560194\n",
            "Movie: In the Line of Fire  Score: 0.2772413120334688\n",
            "Movie: Mosul  Score: 0.2766475001553213\n",
            "Movie: Through My Father's Eyes: The Ronda Rousey Story  Score: 0.27500954910846337\n"
          ]
        }
      ]
    },
    {
      "cell_type": "code",
      "source": [
        "recommend('Mission Control: The Unsung Heroes of Apollo')"
      ],
      "metadata": {
        "colab": {
          "base_uri": "https://localhost:8080/"
        },
        "id": "l2banceqtx7g",
        "outputId": "04f41aff-959f-4a9c-ded7-4196f63be8de"
      },
      "execution_count": 52,
      "outputs": [
        {
          "output_type": "stream",
          "name": "stdout",
          "text": [
            "Recommendations for Mission Control: The Unsung Heroes of Apollo :\n",
            "\n",
            "Movie: Coded Bias  Score: 0.4522670168666454\n",
            "Movie: The Reason I Jump  Score: 0.44232586846469146\n",
            "Movie: E-Cigarettes: Miracle or Menace?  Score: 0.44194173824159216\n",
            "Movie: Catching the Sun  Score: 0.4330127018922194\n",
            "Movie: House of Z  Score: 0.4160251471689219\n",
            "Movie: He Named Me Malala  Score: 0.41457809879442487\n",
            "Movie: The Legend of 420  Score: 0.3977475644174329\n",
            "Movie: Final Account  Score: 0.3969283100678678\n",
            "Movie: What Makes a Psychopath?  Score: 0.3952847075210474\n",
            "Movie: Rize  Score: 0.39391929857916763\n"
          ]
        }
      ]
    },
    {
      "cell_type": "code",
      "source": [
        "recommend('Mindhorn')"
      ],
      "metadata": {
        "colab": {
          "base_uri": "https://localhost:8080/"
        },
        "id": "r9hvr_l8tx-I",
        "outputId": "e422a882-61d5-44e3-b2e4-fe092409719d"
      },
      "execution_count": 53,
      "outputs": [
        {
          "output_type": "stream",
          "name": "stdout",
          "text": [
            "Recommendations for Mindhorn :\n",
            "\n",
            "Movie: The Death of Stalin  Score: 0.3304135690539768\n",
            "Movie: Philomena  Score: 0.31234752377721214\n",
            "Movie: The Professor and the Madman  Score: 0.31234752377721214\n",
            "Movie: Brahman Naman  Score: 0.30949223029508643\n",
            "Movie: Pelé  Score: 0.30618621784789724\n",
            "Movie: A Serious Man  Score: 0.3055555555555556\n",
            "Movie: Room on the Broom  Score: 0.30429030972509225\n",
            "Movie: Scary Movie 5  Score: 0.29814239699997197\n",
            "Movie: My Scientology Movie  Score: 0.2981423969999719\n",
            "Movie: Four Weddings and a Funeral  Score: 0.2898754521821015\n"
          ]
        }
      ]
    },
    {
      "cell_type": "code",
      "source": [
        "recommend('Familiar Wife')"
      ],
      "metadata": {
        "colab": {
          "base_uri": "https://localhost:8080/"
        },
        "id": "GiKihDfPtyAx",
        "outputId": "cf8292e4-9380-462d-bc0a-41d6f7541ef6"
      },
      "execution_count": 54,
      "outputs": [
        {
          "output_type": "stream",
          "name": "stdout",
          "text": [
            "Recommendations for Familiar Wife :\n",
            "\n",
            "Movie: Twice Upon A Time  Score: 0.6239191249502211\n",
            "Movie: 100 Days My Prince  Score: 0.6003970880646445\n",
            "Movie: Nevertheless,  Score: 0.5865241094231511\n",
            "Movie: Cain and Abel  Score: 0.5837823967819284\n",
            "Movie: Lovestruck in the City  Score: 0.5803781951158349\n",
            "Movie: One Spring Night  Score: 0.5746204653902288\n",
            "Movie: Momo Salon  Score: 0.5646839155919903\n",
            "Movie: Cinta Iris  Score: 0.5645484402214311\n",
            "Movie: Chocolate  Score: 0.5640093857576964\n",
            "Movie: My First First Love  Score: 0.5640093857576964\n"
          ]
        }
      ]
    },
    {
      "cell_type": "code",
      "source": [
        "recommend('Jim Gaffigan: Beyond the Pale')"
      ],
      "metadata": {
        "colab": {
          "base_uri": "https://localhost:8080/"
        },
        "id": "oeKjlUz5tyDj",
        "outputId": "650e574d-57cd-4ffd-9ed2-865c1825833c"
      },
      "execution_count": null,
      "outputs": [
        {
          "output_type": "stream",
          "name": "stdout",
          "text": [
            "Recommendations for Jim Gaffigan: Beyond the Pale :\n",
            "\n",
            "Movie: Jim Gaffigan: Mr. Universe  Score: 0.7286120888626996\n",
            "Movie: Jim Gaffigan: Obsessed  Score: 0.7205561941158012\n",
            "Movie: Jim Gaffigan: King Baby  Score: 0.7149966407987077\n",
            "Movie: Jim Gaffigan: Cinco  Score: 0.7096774193548387\n",
            "Movie: Jim Jefferies: Freedumb  Score: 0.5430753866417046\n",
            "Movie: Jim Jefferies: This Is Me Now  Score: 0.5220925637866243\n",
            "Movie: Jim Jefferies: Intolerant  Score: 0.5095101710852534\n",
            "Movie: Jim Jefferies : BARE  Score: 0.5091331749765979\n",
            "Movie: Jim & Andy: The Great Beyond - Featuring a Very Special, Contractually Obligated Mention of Tony Clifton  Score: 0.43357427487729555\n",
            "Movie: Jim Norton: Mouthful of Shame  Score: 0.43122877254358816\n"
          ]
        }
      ]
    },
    {
      "cell_type": "code",
      "source": [
        "recommend('Marco Polo')"
      ],
      "metadata": {
        "colab": {
          "base_uri": "https://localhost:8080/"
        },
        "id": "ver3pQOUtyGO",
        "outputId": "01d1b9ee-a9c9-480d-93ad-a3f3e4b4cf7c"
      },
      "execution_count": null,
      "outputs": [
        {
          "output_type": "stream",
          "name": "stdout",
          "text": [
            "Recommendations for Marco Polo :\n",
            "\n",
            "Movie: October Faction  Score: 0.39177339695010327\n",
            "Movie: Footprints in the Sand  Score: 0.3840122885898554\n",
            "Movie: Shooter  Score: 0.378489059622558\n",
            "Movie: Wynonna Earp  Score: 0.3756527420083571\n",
            "Movie: L.A.’s Finest  Score: 0.37346855888918484\n",
            "Movie: Thieves of the Wood  Score: 0.3721936841593884\n",
            "Movie: Van Helsing  Score: 0.3711537444790452\n",
            "Movie: Iron Ladies  Score: 0.36847776333038806\n",
            "Movie: Lupin  Score: 0.3626203338114211\n",
            "Movie: The Mole  Score: 0.3614031611621005\n"
          ]
        }
      ]
    },
    {
      "cell_type": "code",
      "source": [
        "recommend('Squid Game')"
      ],
      "metadata": {
        "colab": {
          "base_uri": "https://localhost:8080/"
        },
        "id": "uNFX64AttyJl",
        "outputId": "9517d285-725c-4507-f1eb-c5de3bd71ea7"
      },
      "execution_count": null,
      "outputs": [
        {
          "output_type": "stream",
          "name": "stdout",
          "text": [
            "Recommendations for Squid Game :\n",
            "\n",
            "Movie: Prison Playbook  Score: 0.5488516997650299\n",
            "Movie: Chief of Staff  Score: 0.5301340666313609\n",
            "Movie: Color of Woman  Score: 0.5291612750491621\n",
            "Movie: The K2  Score: 0.5241454151643895\n",
            "Movie: Persona  Score: 0.5222329678670935\n",
            "Movie: Romance is a bonus book  Score: 0.5190990940695904\n",
            "Movie: Hospital Playlist  Score: 0.5112895332090217\n",
            "Movie: Memories of the Alhambra  Score: 0.5077524002897476\n",
            "Movie: Bad Guys: Vile City  Score: 0.5049927816941189\n",
            "Movie: My Sassy Girl  Score: 0.503831473655779\n"
          ]
        }
      ]
    },
    {
      "cell_type": "code",
      "source": [
        "recommend('30 Rock')"
      ],
      "metadata": {
        "colab": {
          "base_uri": "https://localhost:8080/"
        },
        "id": "WUSoqxdJsA31",
        "outputId": "8ffc9121-d0e5-4729-868a-9b7f9204d9cf"
      },
      "execution_count": null,
      "outputs": [
        {
          "output_type": "stream",
          "name": "stdout",
          "text": [
            "Recommendations for 30 Rock :\n",
            "\n",
            "Movie: I'm Sorry  Score: 0.3588891627327475\n",
            "Movie: Netflix Presents: The Characters  Score: 0.35606417318210487\n",
            "Movie: The Who Was? Show  Score: 0.3509885473947302\n",
            "Movie: Comedy Premium League  Score: 0.345834250622541\n",
            "Movie: Hot Date  Score: 0.3424150435005797\n",
            "Movie: The Break with Michelle Wolf  Score: 0.33510052044720356\n",
            "Movie: Monty Python's Personal Best  Score: 0.3320388300611682\n",
            "Movie: Episodes  Score: 0.3304135690539768\n",
            "Movie: Green Eggs and Ham  Score: 0.3292447425930007\n",
            "Movie: Frasier  Score: 0.32867462139886605\n"
          ]
        }
      ]
    }
  ]
}